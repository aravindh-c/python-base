{
 "cells": [
  {
   "cell_type": "code",
   "execution_count": 8,
   "id": "17d83b33",
   "metadata": {},
   "outputs": [
    {
     "name": "stdout",
     "output_type": "stream",
     "text": [
      "1.0\n"
     ]
    }
   ],
   "source": [
    "# 1. Create a function to perform basic arithmetic operations that includes addition, subtraction, multiplication and division on a string number (e.g. \"12 + 24\" or \"23 - 21\" or \"12 // 12\" or \"12 * 21\").\n",
    "\n",
    "# Here, we have 1 followed by a space, operator  followed by another space and 2. For the challenge, we are going to have only two numbers between 1 valid operator. The return value should be a number.\n",
    "\n",
    "# eval() is not allowed. In case of division, whenever the second number equals \"0\" return -1.\n",
    "\n",
    "# For example:\n",
    "\n",
    "# \"15 // 0\"  ➞ -1\n",
    "\n",
    "# Examples\n",
    "\n",
    "# arithmetic_operation(\"12 + 12\") ➞ 24 // 12 + 12 = 24\n",
    "\n",
    "# arithmetic_operation(\"12 - 12\") ➞ 24 // 12 - 12 = 0\n",
    "\n",
    "# arithmetic_operation(\"12 * 12\") ➞ 144 // 12 * 12 = 144\n",
    "\n",
    "# arithmetic_operation(\"12 // 0\") ➞ -1 // 12 / 0 = -1\n",
    "\n",
    "def arithmetic_operation(expr:str)->int:\n",
    "    data=expr.split(\" \")\n",
    "    operand1=data[0]\n",
    "    operand2=data[2]\n",
    "    operator=data[1]\n",
    "    if '+' in (operator):\n",
    "        output=int(operand1)+int(operand2)\n",
    "    elif '-' in (operator):\n",
    "        output=int(operand1)-int(operand2)\n",
    "    elif '*' in (operator):\n",
    "        output=int(operand1)*int(operand2)\n",
    "    elif '/' in (operator):\n",
    "        if operand2 == '0':\n",
    "            return 0;\n",
    "        else:\n",
    "            output=int(operand1)/int(operand2)\n",
    "    return output\n",
    "\n",
    "print(arithmetic_operation(\"12 // 12\"))\n"
   ]
  },
  {
   "cell_type": "code",
   "execution_count": 21,
   "id": "519ee72e",
   "metadata": {},
   "outputs": [
    {
     "name": "stdout",
     "output_type": "stream",
     "text": [
      "[0, 0]\n",
      "[0, 1]\n",
      "[1, 0]\n",
      "3.41\n"
     ]
    }
   ],
   "source": [
    "# 2. Write a function that takes the coordinates of three points in the form of a 2d array and returns the perimeter \n",
    "# of the triangle. The given points are the vertices of a triangle on a two-dimensional plane.\n",
    "\n",
    "# Examples\n",
    "\n",
    "# perimeter( [ [15, 7], [5, 22], [11, 1] ] ) ➞ 47.08\n",
    "\n",
    "# perimeter( [ [0, 0], [0, 1], [1, 0] ] ) ➞ 3.42\n",
    "\n",
    "# perimeter( [ [-10, -10], [10, 10 ], [-10, 10] ] ) ➞ 68.28\n",
    "import math\n",
    "def perimeter(coordinates:list)->float:\n",
    "    output=0\n",
    "    for i in range(0,len(coordinates)):\n",
    "        print(coordinates[i])\n",
    "        if i!=len(coordinates)-1:\n",
    "            \n",
    "            x1=coordinates[i][0]\n",
    "            y1=coordinates[i][1]\n",
    "            x2=coordinates[i+1][0]\n",
    "            y2=coordinates[i+1][1]\n",
    "        else:\n",
    "            x1=coordinates[i][0]\n",
    "            y1=coordinates[i][1]\n",
    "            x2=coordinates[0][0]\n",
    "            y2=coordinates[0][1]\n",
    "        z=(x2-x1)**2 + (y2-y1)**2\n",
    "        \n",
    "        output=output+math.sqrt(z)\n",
    "        \n",
    "        \n",
    "    return round(output,2)\n",
    "print(perimeter( [ [0, 0], [0, 1], [1, 0] ]))"
   ]
  },
  {
   "cell_type": "code",
   "execution_count": 29,
   "id": "9fb05bd5",
   "metadata": {},
   "outputs": [
    {
     "name": "stdout",
     "output_type": "stream",
     "text": [
      "total_buildings : 4\n",
      "[1 3 2 1]\n",
      "3\n"
     ]
    }
   ],
   "source": [
    "\n",
    "# 3. A city skyline can be represented as a 2-D list with 1s representing buildings. In the example below, \n",
    "# the height of the tallest building is 4 (second-most right column).\n",
    "\n",
    "# [[0, 0, 0, 0, 0, 0],\n",
    "# [0, 0, 0, 0, 1, 0],\n",
    "# [0, 0, 1, 0, 1, 0],\n",
    "# [0, 1, 1, 1, 1, 0],\n",
    "# [1, 1, 1, 1, 1, 1]]\n",
    "\n",
    "# Create a function that takes a skyline (2-D list of 0's and 1's) and returns the height of the tallest skyscraper.\n",
    "\n",
    "# Examples\n",
    "\n",
    "# tallest_skyscraper([\n",
    "#   [0, 0, 0, 0],\n",
    "#   [0, 1, 0, 0],\n",
    "#   [0, 1, 1, 0],\n",
    "#   [1, 1, 1, 1]\n",
    "# ]) ➞ 3\n",
    "\n",
    "# tallest_skyscraper([\n",
    "#   [0, 1, 0, 0],\n",
    "#   [0, 1, 0, 0],\n",
    "#   [0, 1, 1, 0],\n",
    "#   [1, 1, 1, 1]\n",
    "# ]) ➞ 4\n",
    "\n",
    "# tallest_skyscraper([\n",
    "#   [0, 0, 0, 0],\n",
    "#   [0, 0, 0, 0],\n",
    "#   [1, 1, 1, 0],\n",
    "#   [1, 1, 1, 1]\n",
    "# ]) ➞ 2\n",
    "import numpy as np\n",
    "def tallest_skyscraper(data:list)->int:\n",
    "    total_buildings=len(data[0])\n",
    "    print(\"total_buildings : {0}\".format(total_buildings))\n",
    "    a=[0,0,0,0]\n",
    "    for i in range(0,len(data)):\n",
    "        a=a+np.array(data[i])\n",
    "    print(a)    \n",
    "    return max(a)\n",
    "print(tallest_skyscraper([\n",
    "  [0, 0, 0, 0],\n",
    "  [0, 1, 0, 0],\n",
    "  [0, 1, 1, 0],\n",
    "  [1, 1, 1, 1]\n",
    "]))"
   ]
  },
  {
   "cell_type": "code",
   "execution_count": 43,
   "id": "6035e28a",
   "metadata": {},
   "outputs": [
    {
     "name": "stdout",
     "output_type": "stream",
     "text": [
      "8200\n"
     ]
    }
   ],
   "source": [
    "# 4. A financial institution provides professional services to banks and claims charges from the customers based on \n",
    "# the number of man-days provided. Internally, it has set a scheme to motivate and reward staff to meet and exceed \n",
    "# targeted billable utilization and revenues by paying a bonus for each day claimed from customers in excess of a \n",
    "# threshold target.\n",
    "# This quarterly scheme is calculated with a threshold target of 32 days per quarter, and the incentive payment for \n",
    "# each billable day in excess of such threshold target is shown as follows:\n",
    "\n",
    "# Days\t                             Bonus\n",
    "# 0 to 32 days\t                   Zero\n",
    "# 33 to 40 days\t         SGD$325 per billable day\n",
    "# 41 to 48 days\t         SGD$550 per billable day\n",
    "# Greater than 48 days      SGD$600 per billable day\n",
    "\n",
    "# Please note that incentive payment is calculated progressively. As an example, if an employee reached total \n",
    "# billable days of 45 in a quarter, his/her incentive payment is computed as follows:\n",
    "# 32*0 + 8*325 + 5*550 = 5350\n",
    "\n",
    "# Write a function to read the billable days of an employee and return the bonus he/she has obtained in that quarter.\n",
    "# Examples\n",
    "# bonus(15) ➞ 0\n",
    "# bonus(37) ➞ 1625\n",
    "# bonus(50) ➞ 8200\n",
    "def bonus(days:int)->int:\n",
    "    if days<33:\n",
    "        bonus_amount=0\n",
    "    elif days>32 and days<41:\n",
    "        bonus_amount=(days-32)*325\n",
    "    elif days>40 and days<49:\n",
    "        bonus_amount=8*325+(days-40)*550\n",
    "    elif days>48:\n",
    "        bonus_amount=(8)*325+(8)*550+(days-48)*600\n",
    "    \n",
    "    \n",
    "    return bonus_amount\n",
    "\n",
    "print(bonus(50))"
   ]
  },
  {
   "cell_type": "code",
   "execution_count": 55,
   "id": "2f5c62d8",
   "metadata": {},
   "outputs": [
    {
     "name": "stdout",
     "output_type": "stream",
     "text": [
      "True\n"
     ]
    }
   ],
   "source": [
    "# 5. A number is said to be Disarium if the sum of its digits raised to their respective positions is the number itself.\n",
    "\n",
    "# Create a function that determines whether a number is a Disarium or not.\n",
    "\n",
    "# Examples\n",
    "\n",
    "# is_disarium(75) ➞ False\n",
    "# # 7^1 + 5^2 = 7 + 25 = 32\n",
    "\n",
    "# is_disarium(135) ➞ True\n",
    "# # 1^1 + 3^2 + 5^3 = 1 + 9 + 125 = 135\n",
    "\n",
    "# is_disarium(544) ➞ False\n",
    "\n",
    "# is_disarium(518) ➞ True\n",
    "\n",
    "# is_disarium(466) ➞ False\n",
    "\n",
    "# is_disarium(8) ➞ True\n",
    "\n",
    "def is_disarium(data:int)->bool:\n",
    "    temp=0\n",
    "    for i in range(1,len(str(data))+1):\n",
    "                   temp=temp+int(str(data)[i-1])**i\n",
    "#     print(temp)\n",
    "    if temp==data:\n",
    "        return True\n",
    "    else:\n",
    "        return False\n",
    "    return False\n",
    "print(is_disarium(8))"
   ]
  }
 ],
 "metadata": {
  "kernelspec": {
   "display_name": "Python 3",
   "language": "python",
   "name": "python3"
  },
  "language_info": {
   "codemirror_mode": {
    "name": "ipython",
    "version": 3
   },
   "file_extension": ".py",
   "mimetype": "text/x-python",
   "name": "python",
   "nbconvert_exporter": "python",
   "pygments_lexer": "ipython3",
   "version": "3.8.8"
  }
 },
 "nbformat": 4,
 "nbformat_minor": 5
}
