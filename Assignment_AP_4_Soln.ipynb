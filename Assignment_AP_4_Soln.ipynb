{
 "cells": [
  {
   "cell_type": "code",
   "execution_count": 4,
   "id": "a526d099",
   "metadata": {},
   "outputs": [
    {
     "name": "stdout",
     "output_type": "stream",
     "text": [
      "0\n",
      "1\n",
      "1\n",
      "2\n",
      "3\n",
      "5\n",
      "8\n",
      "13\n"
     ]
    }
   ],
   "source": [
    "# 1. In mathematics, the Fibonacci  numbers, commonly denoted Fn, form a sequence, called the Fibonacci sequence, such that each number is the sum of the two preceding ones, starting from 0 and 1:\n",
    "\n",
    "\n",
    "# The beginning of the sequence is this:\n",
    "\n",
    "# 0, 1, 1, 2, 3, 5, 8, 13, 21, 34, 55, 89, 144, ...\n",
    "\n",
    "# The function fastFib(num) returns the fibonacci number Fn, of the given num as an argument.\n",
    "\n",
    "# Examples\n",
    "\n",
    "# fib_fast(5) ➞ 5\n",
    "\n",
    "# fib_fast(10) ➞ 55\n",
    "\n",
    "# fib_fast(20) ➞ 6765\n",
    "\n",
    "# fib_fast(50) ➞ 12586269025\n",
    "\n",
    "def fastFib(num):\n",
    "    a=0\n",
    "    b=1\n",
    "    for i in range(num):\n",
    "        yield a\n",
    "        a,b=b,a+b\n",
    "for i in fastFib(8):\n",
    "    print(i)"
   ]
  },
  {
   "cell_type": "code",
   "execution_count": 16,
   "id": "d759acbe",
   "metadata": {},
   "outputs": [
    {
     "data": {
      "text/plain": [
       "'4d 61 72 74 79 20 50 6f 70 70 69 6e 73 6f 6e '"
      ]
     },
     "execution_count": 16,
     "metadata": {},
     "output_type": "execute_result"
    }
   ],
   "source": [
    "# 2. Create a function that takes a strings characters as ASCII and returns each characters hexadecimal value as a string.\n",
    "\n",
    "# Examples\n",
    "\n",
    "# convert_to_hex(\"hello world\") ➞ \"68 65 6c 6c 6f 20 77 6f 72 6c 64\"\n",
    "\n",
    "# convert_to_hex(\"Big Boi\") ➞ \"42 69 67 20 42 6f 69\"\n",
    "\n",
    "# convert_to_hex(\"Marty Poppinson\") ➞ \"4d 61 72 74 79 20 50 6f 70 70 69 6e 73 6f 6e\"\n",
    "def convert_to_hex(data):\n",
    "    output=\"\"\n",
    "    for i in data:\n",
    "        output=output+format((ord(i)),'x')+\" \"\n",
    "    return output\n",
    "\n",
    "convert_to_hex(\"Marty Poppinson\")"
   ]
  },
  {
   "cell_type": "code",
   "execution_count": 40,
   "id": "570b68ae",
   "metadata": {},
   "outputs": [
    {
     "data": {
      "text/plain": [
       "'Where did my vowels go?'"
      ]
     },
     "execution_count": 40,
     "metadata": {},
     "output_type": "execute_result"
    }
   ],
   "source": [
    "# 3. Someone has attempted to censor my strings by replacing every vowel with a *, l*k* th*s. Luckily, I've been able to find the vowels that were removed.\n",
    "\n",
    "# Given a censored string and a string of the censored vowels, return the original uncensored string.\n",
    "\n",
    "# Example\n",
    "\n",
    "# uncensor(\"Wh*r* d*d my v*w*ls g*?\", \"eeioeo\") ➞ \"Where did my vowels go?\"\n",
    "\n",
    "# uncensor(\"abcd\", \"\") ➞ \"abcd\"\n",
    "\n",
    "# uncensor(\"*PP*RC*S*\", \"UEAE\") ➞ \"UPPERCASE\"\n",
    "\n",
    "def uncensor(data,cstr):\n",
    "    j=0\n",
    "    op=\"\"\n",
    "    data=list(data)\n",
    "    for i in range(0,len(data)):\n",
    "        if data[i]=='*':\n",
    "            data[i]=cstr[j]\n",
    "            j=j+1\n",
    "        op=op+data[i]\n",
    "    return op\n",
    "\n",
    "uncensor(\"Wh*r* d*d my v*w*ls g*?\", \"eeioeo\")        "
   ]
  }
 ],
 "metadata": {
  "kernelspec": {
   "display_name": "Python 3",
   "language": "python",
   "name": "python3"
  },
  "language_info": {
   "codemirror_mode": {
    "name": "ipython",
    "version": 3
   },
   "file_extension": ".py",
   "mimetype": "text/x-python",
   "name": "python",
   "nbconvert_exporter": "python",
   "pygments_lexer": "ipython3",
   "version": "3.8.8"
  }
 },
 "nbformat": 4,
 "nbformat_minor": 5
}
