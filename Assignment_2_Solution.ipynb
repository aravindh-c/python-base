{
 "cells": [
  {
   "cell_type": "markdown",
   "id": "c17289fc",
   "metadata": {},
   "source": [
    "# 1.What are the two values of the Boolean data type? How do you write them?"
   ]
  },
  {
   "cell_type": "raw",
   "id": "fc35d2cf",
   "metadata": {},
   "source": [
    "True False"
   ]
  },
  {
   "cell_type": "markdown",
   "id": "09bb36d1",
   "metadata": {},
   "source": [
    "# 2. What are the three different types of Boolean operators?"
   ]
  },
  {
   "cell_type": "raw",
   "id": "a7f08cb0",
   "metadata": {},
   "source": [
    "And,Or,Not"
   ]
  },
  {
   "cell_type": "markdown",
   "id": "4d1f6f95",
   "metadata": {},
   "source": [
    "# 3. Make a list of each Boolean operator&#39;s truth tables (i.e. every possible combination of Boolean\n",
    "values for the operator and what it evaluate )."
   ]
  },
  {
   "cell_type": "raw",
   "id": "74fc2d71",
   "metadata": {},
   "source": [
    "(True,False) (False,True) (True,True) (False,False)"
   ]
  },
  {
   "cell_type": "markdown",
   "id": "7774e8f7",
   "metadata": {},
   "source": [
    "# 4. What are the values of the following expressions?\n",
    "1) (5 &gt; 4) and (3 == 5)\n",
    "2) not (5 &gt; 4)\n",
    "3) (5 &gt; 4) or (3 == 5)\n",
    "4) not ((5 &gt; 4) or (3 == 5))\n",
    "5) (True and True) and (True == False)\n",
    "6) (not False) or (not True)"
   ]
  },
  {
   "cell_type": "raw",
   "id": "dfe3608e",
   "metadata": {},
   "source": [
    "1) (5 &gt; 4) and (3 == 5) False\n",
    "2) not (5 &gt; 4) False\n",
    "3) (5 &gt; 4) or (3 == 5) True\n",
    "4) not ((5 &gt; 4) or (3 == 5)) True\n",
    "5) (True and True) and (True == False) False\n",
    "6) (not False) or (not True) True"
   ]
  },
  {
   "cell_type": "markdown",
   "id": "d95d22f6",
   "metadata": {},
   "source": [
    "# 5. What are the six comparison operators?"
   ]
  },
  {
   "cell_type": "raw",
   "id": "238553a0",
   "metadata": {},
   "source": [
    ">,<,==,!,>=,<="
   ]
  },
  {
   "cell_type": "markdown",
   "id": "7e5b4090",
   "metadata": {},
   "source": [
    "# 6. How do you tell the difference between the equal to and assignment operators?Describe a\n",
    "condition and when you would use one."
   ]
  },
  {
   "cell_type": "raw",
   "id": "24c78fd1",
   "metadata": {},
   "source": [
    "equal has two = (eg. 100==100). Assignment has one = (eg. name='test')."
   ]
  },
  {
   "cell_type": "markdown",
   "id": "53ecf56d",
   "metadata": {},
   "source": [
    "# 7. Identify the three blocks in this code:\n",
    "spam = 0\n",
    "if spam == 10:\n",
    "print(&#39;eggs&#39;)\n",
    "if spam &gt; 5:\n",
    "print(&#39;bacon&#39;)\n",
    "else:\n",
    "print(&#39;ham&#39;)\n",
    "print(&#39;spam&#39;)\n",
    "print(&#39;spam&#39;)"
   ]
  },
  {
   "cell_type": "raw",
   "id": "206b1830",
   "metadata": {},
   "source": [
    "\n",
    "spam = 0\n",
    "if spam == 10:\n",
    "    print(&#39;eggs&#39;)\n",
    "if spam &gt; 5:\n",
    "    print(&#39;bacon&#39;)\n",
    "else:\n",
    "    print(&#39;ham&#39;)\n",
    "    print(&#39;spam&#39;)\n",
    "    print(&#39;spam&#39;)"
   ]
  },
  {
   "cell_type": "markdown",
   "id": "fff0bdc3",
   "metadata": {},
   "source": [
    "# 8. Write code that prints Hello if 1 is stored in spam, prints Howdy if 2 is stored in spam, and prints Greetings! if anything else is stored in spam."
   ]
  },
  {
   "cell_type": "code",
   "execution_count": 14,
   "id": "dfe0da8b",
   "metadata": {},
   "outputs": [
    {
     "name": "stdout",
     "output_type": "stream",
     "text": [
      "enter spam value (int) : 4\n",
      "Greetings!\n"
     ]
    }
   ],
   "source": [
    "spam=int(input('enter spam value (int) : '))\n",
    "if spam==1:\n",
    "    print('Hello')\n",
    "elif spam==2:\n",
    "    print('Howdy')\n",
    "else:\n",
    "    print('Greetings!')"
   ]
  },
  {
   "cell_type": "markdown",
   "id": "88a3a6cd",
   "metadata": {},
   "source": [
    "# 9.If your programme is stuck in an endless loop, what keys you’ll press?"
   ]
  },
  {
   "cell_type": "raw",
   "id": "4269638f",
   "metadata": {},
   "source": [
    "Ctrl + C"
   ]
  },
  {
   "cell_type": "markdown",
   "id": "9be153d9",
   "metadata": {},
   "source": [
    "# 10. How can you tell the difference between break and continue?"
   ]
  },
  {
   "cell_type": "raw",
   "id": "ab5d0bbc",
   "metadata": {},
   "source": [
    "Break will terminate the loop. Continue will skip the rest of the code in that loop."
   ]
  },
  {
   "cell_type": "markdown",
   "id": "199a6d7b",
   "metadata": {},
   "source": [
    "# 11. In a for loop, what is the difference between range(10), range(0, 10), and range(0, 10, 1)?"
   ]
  },
  {
   "cell_type": "raw",
   "id": "3f486810",
   "metadata": {},
   "source": [
    "range(start,stop,step)\n",
    "start=optional.It'll tell where to start.\n",
    "stop=Required.It'll tell where to stop.\n",
    "step=optional.It'll tell how to increment."
   ]
  },
  {
   "cell_type": "markdown",
   "id": "9e4b4abd",
   "metadata": {},
   "source": [
    "# 12. Write a short program that prints the numbers 1 to 10 using a for loop. Then write an equivalent\n",
    "program that prints the numbers 1 to 10 using a while loop."
   ]
  },
  {
   "cell_type": "code",
   "execution_count": 24,
   "id": "3ee26688",
   "metadata": {},
   "outputs": [
    {
     "name": "stdout",
     "output_type": "stream",
     "text": [
      "1\n",
      "2\n",
      "3\n",
      "4\n",
      "5\n",
      "6\n",
      "7\n",
      "8\n",
      "9\n",
      "10\n",
      "1\n",
      "2\n",
      "3\n",
      "4\n",
      "5\n",
      "6\n",
      "7\n",
      "8\n",
      "9\n",
      "10\n"
     ]
    }
   ],
   "source": [
    "for i in range(1,11):\n",
    "    print(i)\n",
    "j=1    \n",
    "while(j<11):\n",
    "    print(j)\n",
    "    j=j+1\n",
    "    "
   ]
  },
  {
   "cell_type": "markdown",
   "id": "135d0707",
   "metadata": {},
   "source": [
    "# 13. If you had a function named bacon() inside a module named spam, how would you call it after\n",
    "importing spam?"
   ]
  },
  {
   "cell_type": "raw",
   "id": "30de40f5",
   "metadata": {},
   "source": [
    "spam.bacon()"
   ]
  }
 ],
 "metadata": {
  "kernelspec": {
   "display_name": "Python 3",
   "language": "python",
   "name": "python3"
  },
  "language_info": {
   "codemirror_mode": {
    "name": "ipython",
    "version": 3
   },
   "file_extension": ".py",
   "mimetype": "text/x-python",
   "name": "python",
   "nbconvert_exporter": "python",
   "pygments_lexer": "ipython3",
   "version": "3.8.8"
  }
 },
 "nbformat": 4,
 "nbformat_minor": 5
}
