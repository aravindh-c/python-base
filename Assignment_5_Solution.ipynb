{
 "cells": [
  {
   "cell_type": "code",
   "execution_count": 1,
   "id": "9db70268",
   "metadata": {},
   "outputs": [],
   "source": [
    "# 1. What does an empty dictionary's code look like?\n",
    "# dict={}"
   ]
  },
  {
   "cell_type": "code",
   "execution_count": 3,
   "id": "ef035fc8",
   "metadata": {},
   "outputs": [
    {
     "data": {
      "text/plain": [
       "42"
      ]
     },
     "execution_count": 3,
     "metadata": {},
     "output_type": "execute_result"
    }
   ],
   "source": [
    "\n",
    "# 2. What is the value of a dictionary  value with the key 'foo' and the value 42?\n",
    "# 42\n"
   ]
  },
  {
   "cell_type": "code",
   "execution_count": 4,
   "id": "ae016b36",
   "metadata": {},
   "outputs": [],
   "source": [
    "# 3. What is the most significant distinction between a dictionary and a list?\n",
    "# dictionary is a key-value pair, list holds only value"
   ]
  },
  {
   "cell_type": "code",
   "execution_count": 9,
   "id": "0ae2e77c",
   "metadata": {},
   "outputs": [],
   "source": [
    "# 4. What happens if you try to access spam['foo'] if spam is {'bar': 100}?\n",
    "# we will get 'key error'"
   ]
  },
  {
   "cell_type": "code",
   "execution_count": 10,
   "id": "ce0792c2",
   "metadata": {},
   "outputs": [],
   "source": [
    "# 5. If a dictionary is stored in spam, what is the difference between the expressions 'cat' in spam and 'cat' \n",
    "# in spam.keys()?\n",
    "# In expressions, cat is the value\n",
    "# In spam.keys, cat is the key"
   ]
  },
  {
   "cell_type": "code",
   "execution_count": 11,
   "id": "572c4712",
   "metadata": {},
   "outputs": [],
   "source": [
    "# 6. If a dictionary is stored in spam, what is the difference between the expressions 'cat' in spam and 'cat'\n",
    "# in spam.values()?\n",
    "# skip (invalid question)"
   ]
  },
  {
   "cell_type": "code",
   "execution_count": 58,
   "id": "8d2f4c5d",
   "metadata": {},
   "outputs": [],
   "source": [
    "# 7. What is a shortcut for the following code?\n",
    "# if 'color' not in spam:\n",
    "# spam['color'] = 'black'\n",
    "# Invalid question. we can't reduce.\n"
   ]
  },
  {
   "cell_type": "code",
   "execution_count": 35,
   "id": "1fe9367d",
   "metadata": {},
   "outputs": [
    {
     "name": "stdout",
     "output_type": "stream",
     "text": [
      "{'data': 2, 'test': 'value'}\n"
     ]
    }
   ],
   "source": [
    "# 8. How do you \"pretty print\" dictionary values using which module and function?\n",
    "import pprint \n",
    "spam={'test':'value','data':2}\n",
    "pprint.pprint(spam)\n",
    "# pp.pprint(mydict)"
   ]
  }
 ],
 "metadata": {
  "kernelspec": {
   "display_name": "Python 3",
   "language": "python",
   "name": "python3"
  },
  "language_info": {
   "codemirror_mode": {
    "name": "ipython",
    "version": 3
   },
   "file_extension": ".py",
   "mimetype": "text/x-python",
   "name": "python",
   "nbconvert_exporter": "python",
   "pygments_lexer": "ipython3",
   "version": "3.8.8"
  }
 },
 "nbformat": 4,
 "nbformat_minor": 5
}
