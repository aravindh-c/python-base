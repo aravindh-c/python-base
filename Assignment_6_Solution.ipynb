{
 "cells": [
  {
   "cell_type": "code",
   "execution_count": 44,
   "id": "8267f788",
   "metadata": {},
   "outputs": [],
   "source": [
    "# 1. What are escape characters, and how do you use them?\n",
    "# To insert illegal charecters in string, we should use escape characters. eg. \n",
    "# a=\"welcome \"ineuron\"\" should be write as a=\"welcome \\\"ineuron\\\"\"\n"
   ]
  },
  {
   "cell_type": "code",
   "execution_count": 2,
   "id": "e3d6c00d",
   "metadata": {},
   "outputs": [],
   "source": [
    "# 2. What do the escape characters n and t stand for?\n",
    "# newline and tab"
   ]
  },
  {
   "cell_type": "code",
   "execution_count": 5,
   "id": "798a2ef9",
   "metadata": {},
   "outputs": [],
   "source": [
    "# 3. What is the way to include backslash characters in a string?\n",
    "# use double backslash (\\\\)"
   ]
  },
  {
   "cell_type": "code",
   "execution_count": 9,
   "id": "8b2b2dc5",
   "metadata": {},
   "outputs": [],
   "source": [
    "# 4. The string \"Howl's Moving Castle\" is a correct value. Why isn't the single quote character in the word\n",
    "# Howl's not escaped a problem?\n",
    "# Because, we can use single quote within double quotes and double quotes within single quote\n"
   ]
  },
  {
   "cell_type": "code",
   "execution_count": 46,
   "id": "cbc8c2fb",
   "metadata": {},
   "outputs": [
    {
     "name": "stdout",
     "output_type": "stream",
     "text": [
      "hello\r\n",
      "world\n"
     ]
    }
   ],
   "source": [
    "# 5. How do you write a string of newlines if you don't want to use the n character?\n",
    "import os\n",
    "keyword = 'hello'+ os.linesep + 'world'\n",
    "print(keyword)"
   ]
  },
  {
   "cell_type": "code",
   "execution_count": 30,
   "id": "a3b6f7ad",
   "metadata": {},
   "outputs": [],
   "source": [
    "# 6. What are the values of the given expressions?\n",
    "# 'Hello, world!'[1]\n",
    "# 'Hello, world!'[0:5]\n",
    "# 'Hello, world!'[:5]\n",
    "# 'Hello, world!'[3:]\n",
    "e\n",
    "Hello\n",
    "Hello\n",
    "lo, world!"
   ]
  },
  {
   "cell_type": "code",
   "execution_count": 37,
   "id": "9b455535",
   "metadata": {},
   "outputs": [],
   "source": [
    "# 7. What are the values of the following expressions?\n",
    "# 'Hello'.upper()\n",
    "# 'Hello'.upper().isupper()\n",
    "# 'Hello'.upper().lower()\n",
    "# HELLO\n",
    "# True\n",
    "# hello"
   ]
  },
  {
   "cell_type": "code",
   "execution_count": 35,
   "id": "c7d3db2c",
   "metadata": {},
   "outputs": [
    {
     "data": {
      "text/plain": [
       "'There-can-only-one.'"
      ]
     },
     "execution_count": 35,
     "metadata": {},
     "output_type": "execute_result"
    }
   ],
   "source": [
    "# 8. What are the values of the following expressions?\n",
    "# 'Remember, remember, the fifth of July.'.split()\n",
    "# '-'.join('There can only one.'.split())\n",
    "# ['Remember,','remember,','the','fifth','of','July']\n",
    "# There-can-only-one."
   ]
  },
  {
   "cell_type": "code",
   "execution_count": 43,
   "id": "9e02b309",
   "metadata": {},
   "outputs": [],
   "source": [
    "# 9. What are the methods for right-justifying, left-justifying, and centering a string?\n",
    "# rjust(),ljust(),center()"
   ]
  },
  {
   "cell_type": "code",
   "execution_count": 48,
   "id": "3e7a495e",
   "metadata": {},
   "outputs": [
    {
     "name": "stdout",
     "output_type": "stream",
     "text": [
      "ff\n"
     ]
    }
   ],
   "source": [
    "# 10. What is the best way to remove whitespace characters from the start or end?\n",
    "a=\"  ff  \"\n",
    "print(a.strip())"
   ]
  }
 ],
 "metadata": {
  "kernelspec": {
   "display_name": "Python 3",
   "language": "python",
   "name": "python3"
  },
  "language_info": {
   "codemirror_mode": {
    "name": "ipython",
    "version": 3
   },
   "file_extension": ".py",
   "mimetype": "text/x-python",
   "name": "python",
   "nbconvert_exporter": "python",
   "pygments_lexer": "ipython3",
   "version": "3.8.8"
  }
 },
 "nbformat": 4,
 "nbformat_minor": 5
}
