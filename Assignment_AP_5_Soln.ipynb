{
 "cells": [
  {
   "cell_type": "code",
   "execution_count": 12,
   "id": "19a1408e",
   "metadata": {},
   "outputs": [
    {
     "name": "stdout",
     "output_type": "stream",
     "text": [
      "8\n"
     ]
    }
   ],
   "source": [
    "# 1. Create a function that takes a number n (integer greater than zero) as an argument, and returns 2 if n is odd and 8 if \n",
    "# n is even.\n",
    "\n",
    "# You can only use the following arithmetic operators: addition of numbers +, subtraction of numbers -, multiplication of \n",
    "#     number *, division of number /, and exponentiation **.\n",
    "\n",
    "# You are not allowed to use any other methods in this challenge (i.e. no if statements, comparison operators, etc).\n",
    "\n",
    "# Examples\n",
    "\n",
    "# f(1) ➞ 2\n",
    "\n",
    "# f(2) ➞ 8\n",
    "\n",
    "# f(3) ➞ 2\n",
    "\n",
    "def f(n):\n",
    "#     odd-->2\n",
    "#     even-->8\n",
    "    l=[8,2]\n",
    "    return l[n%2]\n",
    "\n",
    "print(f(8))\n"
   ]
  },
  {
   "cell_type": "code",
   "execution_count": 2,
   "id": "a4b75734",
   "metadata": {},
   "outputs": [
    {
     "name": "stdout",
     "output_type": "stream",
     "text": [
      "3.0\n",
      "['A', 'B']\n"
     ]
    }
   ],
   "source": [
    "# 2. Create a function that returns the majority vote in a list. A majority vote is an element that occurs > N/2 times in\n",
    "# a list (where N is the length of the list).\n",
    "# Examples\n",
    "# majority_vote([\"A\", \"A\", \"B\"]) ➞ \"A\"\n",
    "# majority_vote([\"A\", \"A\", \"A\", \"B\", \"B\", \"B\"]) ➞ \"A\"\n",
    "# majority_vote([\"A\", \"B\", \"B\", \"A\", \"C\", \"C\"]) ➞ None\n",
    "\n",
    "def majority_vote1(voteList):\n",
    "    majority=(len(voteList)/2)\n",
    "    m={}\n",
    "    tmp=[]\n",
    "#     print(majority)\n",
    "    for i in voteList:\n",
    "        if i not in tmp:\n",
    "            tmp.append(i)\n",
    "#     print(tmp)    \n",
    "    for i in tmp:\n",
    "        if voteList.count(i)>majority:\n",
    "            return (i)\n",
    "    return None\n",
    "        \n",
    "    \n",
    "majority_vote1([\"A\", \"A\", \"A\", \"B\", \"B\", \"B\"])\n"
   ]
  },
  {
   "cell_type": "code",
   "execution_count": 16,
   "id": "16e53f00",
   "metadata": {},
   "outputs": [
    {
     "data": {
      "text/plain": [
       "'Why *** the ******* cross the **** ?'"
      ]
     },
     "execution_count": 16,
     "metadata": {},
     "output_type": "execute_result"
    }
   ],
   "source": [
    "# 3. Create a function that takes a string txt and censors any word from a given list lst. The text removed must be\n",
    "# replaced by the given character char.\n",
    "# Examples\n",
    "# censor_string(\"Today is a Wednesday!\", [\"Today\", \"a\"], \"-\") ➞ \"----- is - Wednesday!\"\n",
    "# censor_string(\"The cow jumped over the moon.\", [\"cow\", \"over\"], \"*\"), \"The *** jumped **** the moon.\")\n",
    "# censor_string(\"Why did the chicken cross the road ?\", [\"Did\", \"chicken\", \"road\"], \"*\") ➞ \"Why *** the ******* cross the\n",
    "# ****?\"\n",
    "\n",
    "def censor_string(data,lst,sym):\n",
    "#     for i in lst:\n",
    "#         data=data.replace(i,sym*len(i))\n",
    "    data_list=data.split()\n",
    "    out=\"\"\n",
    "    for i in data_list:\n",
    "        if i in lst:\n",
    "            out=out+str((sym*len(i)))\n",
    "        else:\n",
    "            out=out+str(i)\n",
    "        out=out+\" \"    \n",
    "        \n",
    "    return out.strip()\n",
    "    \n",
    "censor_string(\"Why did the chicken cross the road ?\", [\"did\", \"chicken\", \"road\"], \"*\")"
   ]
  },
  {
   "cell_type": "code",
   "execution_count": 31,
   "id": "90d74890",
   "metadata": {},
   "outputs": [
    {
     "data": {
      "text/plain": [
       "False"
      ]
     },
     "execution_count": 31,
     "metadata": {},
     "output_type": "execute_result"
    }
   ],
   "source": [
    "\n",
    "# 4. In mathematics a Polydivisible Number (or magic number) is a number in a given number base with digits abcde... that\n",
    "# has the following properties:\n",
    "\n",
    "# -  Its first digit a is not 0.\n",
    "# - The number formed by its first two digits ab is a multiple of 2.\n",
    "# - The number formed by its first three digits abc is a multiple of 3.\n",
    "# - The number formed by its first four digits abcd is a multiple of 4.\n",
    "\n",
    "# Create a function which takes an integer n and returns True if the given number is a Polydivisible Number and False \n",
    "# otherwise.\n",
    "\n",
    "# Examples\n",
    "\n",
    "# is_polydivisible(1232) ➞ True\n",
    "# # 1     / 1 = 1\n",
    "# # 12    / 2 = 6\n",
    "# # 123   / 3 = 41\n",
    "# # 1232  / 4 = 308\n",
    "\n",
    "# is_polydivisible(123220 ) ➞ False\n",
    "# # 1   / 1 = 1\n",
    "# # 12   / 2 = 6\n",
    "# # 123   / 3 = 41\n",
    "# # 1232   / 4 = 308\n",
    "# # 12322   / 5 = 2464.4         # Not a Whole Number\n",
    "# # 123220   /6 = 220536.333...  # Not a Whole Number\n",
    "\n",
    "def is_polydivisible(num):\n",
    "    for i in reversed(range(1,len(str(num))+1)):\n",
    "        if num%i==0:\n",
    "            num=int(num/10)\n",
    "            pass\n",
    "        else:\n",
    "            return False\n",
    "    return True\n",
    "#         print(i)\n",
    "is_polydivisible(123220)        "
   ]
  },
  {
   "cell_type": "code",
   "execution_count": 38,
   "id": "28d2d362",
   "metadata": {},
   "outputs": [
    {
     "data": {
      "text/plain": [
       "87"
      ]
     },
     "execution_count": 38,
     "metadata": {},
     "output_type": "execute_result"
    }
   ],
   "source": [
    "\n",
    "# 5. Create a function that takes a list of numbers and returns the sum of all prime numbers in the list.\n",
    "\n",
    "# Examples\n",
    "\n",
    "# sum_primes([1, 2, 3, 4, 5, 6, 7, 8, 9, 10]) ➞ 17\n",
    "\n",
    "# sum_primes([2, 3, 4, 11, 20, 50, 71]) ➞ 87\n",
    "\n",
    "# sum_primes([]) ➞ None\n",
    "\n",
    "def sum_primes(lst):\n",
    "    sum=0\n",
    "    for i in lst:\n",
    "        if i !=1:\n",
    "            if i not in (2,3):\n",
    "\n",
    "                if i%2==0 or i%3==0:\n",
    "                    pass\n",
    "                else:\n",
    "                    sum=sum+i\n",
    "            else:\n",
    "                sum=sum+i\n",
    "    return sum\n",
    "                \n",
    "sum_primes([2, 3, 4, 11, 20, 50, 71])"
   ]
  }
 ],
 "metadata": {
  "kernelspec": {
   "display_name": "Python 3",
   "language": "python",
   "name": "python3"
  },
  "language_info": {
   "codemirror_mode": {
    "name": "ipython",
    "version": 3
   },
   "file_extension": ".py",
   "mimetype": "text/x-python",
   "name": "python",
   "nbconvert_exporter": "python",
   "pygments_lexer": "ipython3",
   "version": "3.8.8"
  }
 },
 "nbformat": 4,
 "nbformat_minor": 5
}
