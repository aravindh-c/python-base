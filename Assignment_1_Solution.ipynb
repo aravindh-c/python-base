{
 "cells": [
  {
   "cell_type": "code",
   "execution_count": null,
   "id": "f19d31cd",
   "metadata": {},
   "outputs": [],
   "source": [
    "# 1. In the below elements which of them are values or  an expression? eg:- values can be integer or string and expressions will be mathematical operators.\n",
    "\n",
    "# Ans:\n",
    "# * (Expressions)\n",
    "# 'hello' (Values)\n",
    "# -87.8 (Values)\n",
    "# - (Expressions)\n",
    "# / (Expressions)\n",
    "# +\t(Expressions)\n",
    "# 6 (Values)\n"
   ]
  },
  {
   "cell_type": "code",
   "execution_count": null,
   "id": "63f314e8",
   "metadata": {},
   "outputs": [],
   "source": [
    "# 2. What is the difference between string and variable?\n",
    "\n",
    "# Ans:String is a datatype of a value. Variable is a reference (in memory) of the Value.\n",
    "# Ex. name=”iNeuron”. Here, “name” is the variable which holds the string value called “iNeuron”.\n"
   ]
  },
  {
   "cell_type": "code",
   "execution_count": null,
   "id": "17ccdb55",
   "metadata": {},
   "outputs": [],
   "source": [
    "# 3. Describe three different data types.\n",
    "\n",
    "# Ans:Integer,String,Boolean,..\n"
   ]
  },
  {
   "cell_type": "code",
   "execution_count": null,
   "id": "c1cdad76",
   "metadata": {},
   "outputs": [],
   "source": [
    "# 4. What is an expression made up of? What do all expressions do?\n",
    "\n",
    "# Ans:Expression is made of operands and operators. It will do calculation or interpretation to produce some result.\n"
   ]
  },
  {
   "cell_type": "code",
   "execution_count": null,
   "id": "b9ba24d5",
   "metadata": {},
   "outputs": [],
   "source": [
    "# 5. This assignment statements, like spam = 10. What is the difference between an expression and a statement?\n",
    "\n",
    "# Ans:Expression, contains operands and operators and it’ll produce some result.Ex. a=5+1\n",
    "# Statement, represents action or command. Ex. Print statement.\n"
   ]
  },
  {
   "cell_type": "code",
   "execution_count": null,
   "id": "4412f5ff",
   "metadata": {},
   "outputs": [],
   "source": [
    "# 6. After running the following code, what does the variable bacon contain?\n",
    "# bacon = 22\n",
    "# bacon + 1\n",
    "\n",
    "# Ans: bacon will be 22 only. Because , it’s assigned only to 22.\n"
   ]
  },
  {
   "cell_type": "code",
   "execution_count": null,
   "id": "50e4dc21",
   "metadata": {},
   "outputs": [],
   "source": [
    "# 7. What should the values of the following two terms be?\n",
    "\n",
    "# Ans:\n",
    "# 'spam' + 'spamspam'= spamspamspam\n",
    "# 'spam' * 3 = spamspamspam\n"
   ]
  },
  {
   "cell_type": "code",
   "execution_count": null,
   "id": "366e0e01",
   "metadata": {},
   "outputs": [],
   "source": [
    "# 8. Why is eggs a valid variable name while 100 is invalid?\n",
    "\n",
    "# Ans: “eggs” is starting with letter.100 is starting with number.\n"
   ]
  },
  {
   "cell_type": "code",
   "execution_count": null,
   "id": "bfa9875d",
   "metadata": {},
   "outputs": [],
   "source": [
    "# 9. What three functions can be used to get the integer, floating-point number, or string version of a value?\n",
    "\n",
    "# Ans:\n",
    "# int(value)\n",
    "# float(value)\n",
    "# str(value)\n"
   ]
  },
  {
   "cell_type": "code",
   "execution_count": null,
   "id": "6ce2ed92",
   "metadata": {},
   "outputs": [],
   "source": [
    "# 10. Why does this expression cause an error? How can you fix it?\n",
    "# 'I have eaten ' + 99 + ' burritos.'\n",
    "\n",
    "# Ans. We can concatenate only string , not integer.\n"
   ]
  }
 ],
 "metadata": {
  "kernelspec": {
   "display_name": "Python 3",
   "language": "python",
   "name": "python3"
  },
  "language_info": {
   "codemirror_mode": {
    "name": "ipython",
    "version": 3
   },
   "file_extension": ".py",
   "mimetype": "text/x-python",
   "name": "python",
   "nbconvert_exporter": "python",
   "pygments_lexer": "ipython3",
   "version": "3.8.8"
  }
 },
 "nbformat": 4,
 "nbformat_minor": 5
}
