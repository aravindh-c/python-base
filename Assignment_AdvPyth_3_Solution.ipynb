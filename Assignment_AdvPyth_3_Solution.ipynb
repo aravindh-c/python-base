{
 "cells": [
  {
   "cell_type": "code",
   "execution_count": null,
   "id": "1db88ab6",
   "metadata": {},
   "outputs": [],
   "source": [
    "# 1. What is the concept of an abstract superclass?\n",
    "# An abstract class can be considered as a blueprint for other classes. It allows you to create a set of methods that must\n",
    "# be created within any child classes built from the abstract class. A common superclass for several subclasses is called \n",
    "# abstract superclass.\n",
    "\n",
    "# 2. What happens when a class statement's top level contains a basic assignment statement?\n",
    "# It's called class variable\n",
    "\n",
    "# 3. Why does a class need to manually call a superclass's __init__ method?\n",
    "# The main reason for always calling super class _init__ is that super class may typically create member variable\n",
    "# and initialize them to defaults. So if you don't call super class init, none of that code would be executed and\n",
    "# you would end up with super class that has no member variables.\n",
    "\n",
    "# 4. How can you augment, instead of completely replacing, an inherited method?\n",
    "# support@ineuron.ai told that the question is wrong\n",
    "\n",
    "\n",
    "# 5. How is the local scope of a class different from that of a function?\n",
    "# Local scope is a kind of block scope.Class scope Names of class members have class scope, which extends throughout\n",
    "# the class definition regardless of the point of declaration."
   ]
  }
 ],
 "metadata": {
  "kernelspec": {
   "display_name": "Python 3",
   "language": "python",
   "name": "python3"
  },
  "language_info": {
   "codemirror_mode": {
    "name": "ipython",
    "version": 3
   },
   "file_extension": ".py",
   "mimetype": "text/x-python",
   "name": "python",
   "nbconvert_exporter": "python",
   "pygments_lexer": "ipython3",
   "version": "3.8.8"
  }
 },
 "nbformat": 4,
 "nbformat_minor": 5
}
