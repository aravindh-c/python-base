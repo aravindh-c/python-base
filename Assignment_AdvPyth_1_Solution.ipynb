{
 "cells": [
  {
   "cell_type": "code",
   "execution_count": 1,
   "id": "57df2478",
   "metadata": {},
   "outputs": [],
   "source": [
    "# Q1. What is the purpose of Python's OOP?\n",
    "# It's useful to make everything a module. OOPS concept  provides an encapsulation to the module."
   ]
  },
  {
   "cell_type": "code",
   "execution_count": 4,
   "id": "acb4d842",
   "metadata": {},
   "outputs": [],
   "source": [
    "# Q2. Where does an inheritance search look for an attribute?\n",
    "# Tree search\n",
    "\n",
    "# Q3. How do you distinguish between a class object and an instance object?\n",
    "\n",
    "\n",
    "# Q4. What makes the first argument in a class’s method function special?\n",
    "# It's a reference to the current instance of the class. Eg. Self\n",
    "\n",
    "# Q5. What is the purpose of the __init__ method?\n",
    "# It initialize the object's attributes.\n",
    "\n",
    "# Q6. What is the process for creating a class instance?\n",
    "# By class name and pass the argumets (if any). \n",
    "# Eg., emp=Employee(101,'Bala','Chenai') will create an employee object with specified attributes.\n",
    "\n"
   ]
  },
  {
   "cell_type": "code",
   "execution_count": 6,
   "id": "def32b54",
   "metadata": {},
   "outputs": [
    {
     "name": "stdout",
     "output_type": "stream",
     "text": [
      "chennai\n"
     ]
    }
   ],
   "source": [
    "# Q7. What is the process for creating a class?\n",
    "# Using \"class\" keyword.\n",
    "# Eg. \n",
    "class Employee:\n",
    "    def __init__(self,id,name,city):\n",
    "        self.id=id\n",
    "        self.name=name\n",
    "        self.city=city\n",
    "e=Employee(1,\"Aravindh\",\"chennai\")\n",
    "print(e.city)\n"
   ]
  },
  {
   "cell_type": "code",
   "execution_count": 8,
   "id": "8937edf0",
   "metadata": {},
   "outputs": [],
   "source": [
    "# Q8. How would you define the superclasses of a class?\n",
    "# class DerivedClassName(BaseClassName):\n",
    "#     pass\n",
    "# Eg.\n",
    "class super_Emp(Employee):\n",
    "    pass"
   ]
  }
 ],
 "metadata": {
  "kernelspec": {
   "display_name": "Python 3",
   "language": "python",
   "name": "python3"
  },
  "language_info": {
   "codemirror_mode": {
    "name": "ipython",
    "version": 3
   },
   "file_extension": ".py",
   "mimetype": "text/x-python",
   "name": "python",
   "nbconvert_exporter": "python",
   "pygments_lexer": "ipython3",
   "version": "3.8.8"
  }
 },
 "nbformat": 4,
 "nbformat_minor": 5
}
