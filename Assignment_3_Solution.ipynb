{
 "cells": [
  {
   "cell_type": "code",
   "execution_count": null,
   "id": "f7b87db5",
   "metadata": {},
   "outputs": [],
   "source": [
    "# 1. Why are functions advantageous to have in your programs?\n",
    "# It improves code reusability \n",
    "# 2. When does the code in a function run: when it's specified or when it's called?\n",
    "# when it's called\n",
    "# 3. What statement creates a function?\n",
    "# def\n",
    "# 4. What is the difference between a function and a function call?\n",
    "# function is to define the logic . Function call is to execute the function/logic\n",
    "# 5. How many global scopes are there in a Python program? How many local scopes?\n",
    "# global,local,built-in\n",
    "# 6. What happens to variables in a local scope when the function call returns?\n",
    "# It becomes undefined\n",
    "# 7. What is the concept of a return value? Is it possible to have a return value in an expression?\n",
    "# return value will return a value at the end of the function.\n",
    "# 8. If a function does not have a return statement, what is the return value of a call to that function?\n",
    "# None\n",
    "# 9. How do you make a function variable refer to the global variable?\n",
    "# use global keyword\n",
    "# 10. What is the data type of None?\n",
    "# Object\n",
    "# 11. What does the sentence import areallyourpetsnamederic do?\n",
    "# It'll import the module called 'areallyourpetsnamederic'\n",
    "# 12. If you had a bacon() feature in a spam module, what would you call it after importing spam?\n",
    "# spam.bacon()\n",
    "# 13. What can you do to save a programme from crashing if it encounters an error?\n",
    "# use try_catch block\n",
    "# 14. What is the purpose of the try clause? What is the purpose of the except clause?\n",
    "# Try is to enclose the logic and prevent from crashing the entire program. If any exception occurs within try block,\n",
    "# it'll be handled in exception block. Except block will handle the exception in try block.\n",
    "\n"
   ]
  }
 ],
 "metadata": {
  "kernelspec": {
   "display_name": "Python 3",
   "language": "python",
   "name": "python3"
  },
  "language_info": {
   "codemirror_mode": {
    "name": "ipython",
    "version": 3
   },
   "file_extension": ".py",
   "mimetype": "text/x-python",
   "name": "python",
   "nbconvert_exporter": "python",
   "pygments_lexer": "ipython3",
   "version": "3.8.8"
  }
 },
 "nbformat": 4,
 "nbformat_minor": 5
}
