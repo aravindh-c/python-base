{
 "cells": [
  {
   "cell_type": "code",
   "execution_count": 3,
   "id": "d0eb13ce",
   "metadata": {},
   "outputs": [],
   "source": [
    "# 1. To what does a relative path refer?\n",
    "# Relative path start refering from current location.\n",
    "\n"
   ]
  },
  {
   "cell_type": "code",
   "execution_count": 4,
   "id": "414a021f",
   "metadata": {},
   "outputs": [],
   "source": [
    "# 2. What does an absolute path start with your operating system?\n",
    "# C:/"
   ]
  },
  {
   "cell_type": "code",
   "execution_count": 5,
   "id": "6a87363f",
   "metadata": {},
   "outputs": [],
   "source": [
    "# 3. What do the functions os.getcwd() and os.chdir() do?\n",
    "# os.getcwd()----> Prints current working directory.\n",
    "# os.chdir()---> changes the corrent working dir to the argument passed to it."
   ]
  },
  {
   "cell_type": "code",
   "execution_count": 6,
   "id": "ddcdf2e4",
   "metadata": {},
   "outputs": [],
   "source": [
    "# 4. What are the . and .. folders?\n",
    "# The single dot is a meta-location, meaning the folder you are currently in. \n",
    "# The double dot is an indicator that you can move back from this location"
   ]
  },
  {
   "cell_type": "code",
   "execution_count": 7,
   "id": "bc5e6b89",
   "metadata": {},
   "outputs": [],
   "source": [
    "# 5. In C:\\bacon\\eggs\\spam.txt, which part is the dir name, and which part is the base name?\n",
    "# C: -> basename\n",
    "# \\bacon\\eggs--> dir name"
   ]
  },
  {
   "cell_type": "code",
   "execution_count": 8,
   "id": "f3d80d0a",
   "metadata": {},
   "outputs": [],
   "source": [
    "# 6. What are the three “mode” arguments that can be passed to the open() function?\n",
    "# r-read mode\n",
    "# w-write mode\n",
    "# X-execution mode\n",
    "# a-Append at the end of the file\n",
    "# +-update mode\n",
    "# t-text mode\n",
    "# b-binary mode"
   ]
  },
  {
   "cell_type": "code",
   "execution_count": 9,
   "id": "c3dda799",
   "metadata": {},
   "outputs": [],
   "source": [
    "# 7. What happens if an existing file is opened in write mode?\n",
    "# It'll truncate the xisting file"
   ]
  },
  {
   "cell_type": "code",
   "execution_count": 10,
   "id": "6bf8d774",
   "metadata": {},
   "outputs": [],
   "source": [
    "# 8. How do you tell the difference between read() and readlines()?\n",
    "# Read- Read entire file as single object.\n",
    "# Readlines- Read single line at a time "
   ]
  }
 ],
 "metadata": {
  "kernelspec": {
   "display_name": "Python 3",
   "language": "python",
   "name": "python3"
  },
  "language_info": {
   "codemirror_mode": {
    "name": "ipython",
    "version": 3
   },
   "file_extension": ".py",
   "mimetype": "text/x-python",
   "name": "python",
   "nbconvert_exporter": "python",
   "pygments_lexer": "ipython3",
   "version": "3.8.8"
  }
 },
 "nbformat": 4,
 "nbformat_minor": 5
}
