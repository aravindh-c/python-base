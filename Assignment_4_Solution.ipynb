{
 "cells": [
  {
   "cell_type": "code",
   "execution_count": 9,
   "id": "d8409383",
   "metadata": {},
   "outputs": [],
   "source": [
    "# 1. What exactly is []?\n",
    "# Empty list\n",
    "# 2. In a list of values stored in a variable called spam, how would you assign the value 'hello' as the third value? (Assume [2, 4, 6, 8, 10] are in spam.)\n",
    "# spam[2]='hello'\n",
    "# Let's pretend the spam includes the list ['a', 'b', 'c', 'd'] for the next three queries.\n",
    "# 3. What is the value of spam[int(int('3' * 2) / 11)]?-->\n",
    "# spam[3]-->'d'\n",
    "# 4. What is the value of spam[-1]?-->\n",
    "# 'd'\n",
    "# 5. What is the value of spam[:2]?-->\n",
    "# ['a','b']\n",
    "# Let's pretend bacon has the list [3.14, 'cat,' 11, 'cat,' True] for the next three questions.\n",
    "# 6. What is the value of bacon.index('cat')?\n",
    "# 1\n",
    "# 7. How does bacon.append(99) change the look of the list value in bacon?\n",
    "# [3.14, 'cat,' 11, 'cat,' True,99]\n",
    "# 8. How does bacon.remove('cat') change the look of the list in bacon?\n",
    "# [3.14, 11, True]\n",
    "# 9. What are the list concatenation and list replication operators?\n",
    "# append,extend\n",
    "# 10. What is difference between the list methods append() and insert()?\n",
    "# append will add the element at the end of the list. Insert will add the element at desired position\n",
    "# 11. What are the two methods for removing items from a list?\n",
    "# remove,pop\n",
    "# 12. Describe how list values and string values are identical.\n",
    "# Both can be iterable in for loop\n",
    "# 13. What's the difference between tuples and lists?\n",
    "# tuple is immutable. List is mutable\n",
    "# 14. How do you type a tuple value that only contains the integer 42?\n",
    "# (42)\n",
    "# 15. How do you get a list value's tuple form? How do you get a tuple value's list form?\n",
    "# tuple(list) and list(tuple)\n",
    "# 16. Variables that \"contain\" list values are not necessarily lists themselves. Instead, what do they contain?\n",
    "# 17. How do you distinguish between copy.copy() and copy.deepcopy()?\n",
    "# copy() will refer to the original object . deepcopy will produce another copy of object\n",
    "\n"
   ]
  }
 ],
 "metadata": {
  "kernelspec": {
   "display_name": "Python 3",
   "language": "python",
   "name": "python3"
  },
  "language_info": {
   "codemirror_mode": {
    "name": "ipython",
    "version": 3
   },
   "file_extension": ".py",
   "mimetype": "text/x-python",
   "name": "python",
   "nbconvert_exporter": "python",
   "pygments_lexer": "ipython3",
   "version": "3.8.8"
  }
 },
 "nbformat": 4,
 "nbformat_minor": 5
}
