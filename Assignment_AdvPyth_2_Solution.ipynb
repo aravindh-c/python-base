{
 "cells": [
  {
   "cell_type": "code",
   "execution_count": null,
   "id": "cadbfb88",
   "metadata": {},
   "outputs": [],
   "source": [
    "# Q1. What is the relationship between classes and modules?\n",
    "# The difference between a class and a module in python is that a class is used to define a blueprint for a given object, \n",
    "# whereas a module is used to reuse a given piece of code inside another program\n",
    "\n",
    "# Q2. How do you make instances and classes?\n",
    "# Class- Using 'class' keyword.\n",
    "# Instance- Using the class name. Eg. obj=EMP()\n",
    "\n",
    "# Q3. Where and how should be class attributes created?\n",
    "# class attributes are created within class with 'def' keyword.\n",
    "\n",
    "# Q4. Where and how are instance attributes created?\n",
    "# An instance attribute is a Python variable belonging to only one object. It is only accessible in the scope of the object \n",
    "# and it is defined inside the constructor function of a class. For example, __init__(self,..).\n",
    "\n",
    "# Q5. What does the term \"self\" in a Python class mean?\n",
    "# self represents the instance of the class. By using the “self” keyword we can access the attributes and \n",
    "# methods of the class in python. \n",
    "\n",
    "# Q6. How does a Python class handle operator overloading?\n",
    "# Operator Overloading means giving extended meaning beyond their predefined operational meaning. \n",
    "# For example operator + is used to add two integers as well as join two strings and merge two lists.\n",
    "# It is achievable because ‘+’ operator is overloaded by int class and str class.\n",
    "\n",
    "# Q7. When do you consider allowing operator overloading of your classes?\n",
    "# This feature in Python allows the same operator to have different meaning according to the context.\n",
    "\n",
    "# Q8. What is the most popular form of operator overloading?\n",
    "# Addition (+) operator\n",
    "\n",
    "# Q9. What are the two most important concepts to grasp in order to comprehend Python OOP code?\n",
    "# Inheritance and Polymorphism"
   ]
  }
 ],
 "metadata": {
  "kernelspec": {
   "display_name": "Python 3",
   "language": "python",
   "name": "python3"
  },
  "language_info": {
   "codemirror_mode": {
    "name": "ipython",
    "version": 3
   },
   "file_extension": ".py",
   "mimetype": "text/x-python",
   "name": "python",
   "nbconvert_exporter": "python",
   "pygments_lexer": "ipython3",
   "version": "3.8.8"
  }
 },
 "nbformat": 4,
 "nbformat_minor": 5
}
