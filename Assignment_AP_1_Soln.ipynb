{
 "cells": [
  {
   "cell_type": "code",
   "execution_count": 53,
   "id": "77d1553d",
   "metadata": {},
   "outputs": [
    {
     "data": {
      "text/plain": [
       "0"
      ]
     },
     "execution_count": 53,
     "metadata": {},
     "output_type": "execute_result"
    }
   ],
   "source": [
    "# 1. Write a function that takes a list of lists and  returns the value of all of the symbols in it, where each symbol adds or takes something from the total score. Symbol values:\n",
    "\n",
    "# # = 5\n",
    "# O = 3\n",
    "# X = 1\n",
    "# ! = -1\n",
    "# !! = -3\n",
    "# !!! = -5\n",
    "\n",
    "# A list of lists containing 2 #s, a O, and a !!! would equal (0 + 5 + 5 + 3 - 5) 8.\n",
    "\n",
    "# If the final score is negative, return 0 (e.g. 3 #s, 3 !!s, 2 !!!s and a X would be (0 + 5 + 5 + 5 - 3 - 3 - 3 - 5 - 5 + 1) -3, so return 0.\n",
    "\n",
    "# Examples\n",
    "\n",
    "# check_score([\n",
    "#   [\"#\", \"!\"],\n",
    "#   [\"!!\", \"X\"]\n",
    "# ]) ➞ 2\n",
    "\n",
    "# check_score([\n",
    "#   [\"!!!\", \"O\", \"!\"],\n",
    "#   [\"X\", \"#\", \"!!!\"],\n",
    "#   [\"!!\", \"X\", \"O\"]\n",
    "# ]) ➞ 0\n",
    "import sys\n",
    "def check_score(list_of_list):\n",
    "    symbol_value={\n",
    "        '#':5,\n",
    "        'O':3,\n",
    "        'X':1,\n",
    "        '!':-1,\n",
    "        '!!':-3,\n",
    "        '!!!':-5\n",
    "    }\n",
    "    final_value=0\n",
    "    try:\n",
    "            \n",
    "        for list in list_of_list:\n",
    "            for element in list:\n",
    "               final_value=final_value+symbol_value[element] \n",
    "        if final_value<0:\n",
    "            return 0\n",
    "        return final_value\n",
    "    except:\n",
    "        print(\"{0} has occured\".format(str(sys.exc_info()[0])))\n",
    "\n",
    "check_score([[\"!!!\", \"O\", \"!\"],[\"X\", \"#\", \"!!!\"],[\"!!\", \"X\", \"O\"]])"
   ]
  },
  {
   "cell_type": "code",
   "execution_count": 48,
   "id": "266d04a8",
   "metadata": {},
   "outputs": [
    {
     "name": "stdout",
     "output_type": "stream",
     "text": [
      "enter the numbers 123\n",
      "['1', '2', '3']\n",
      "('1', '2', '3')\n",
      "('1', '3', '2')\n",
      "('2', '1', '3')\n",
      "('2', '3', '1')\n",
      "('3', '1', '2')\n",
      "('3', '2', '1')\n",
      "6\n"
     ]
    }
   ],
   "source": [
    "# 2. Create a function that takes a variable number of arguments, each argument representing the number of items in a group,\n",
    "# and returns the number of permutations (combinations) of items that you could get by taking one item from each group.\n",
    "\n",
    "# Examples\n",
    "\n",
    "# combinations(2, 3) ➞ 6\n",
    "\n",
    "# combinations(3, 7, 4) ➞ 84\n",
    "\n",
    "# combinations(2, 3, 4, 5) ➞ 120\n",
    "from itertools import permutations\n",
    "def combinations(argv):\n",
    "    print(list(argv))\n",
    "    value=0\n",
    "    \n",
    "    perm=permutations(list(argv))\n",
    "    \n",
    "    for j in list(perm):\n",
    "        print(j)\n",
    "        value=value+1\n",
    "    print(value)\n",
    "\n",
    "combinations(input(\"enter the numbers \")) #ex. 123"
   ]
  },
  {
   "cell_type": "code",
   "execution_count": 54,
   "id": "2b23e44d",
   "metadata": {},
   "outputs": [
    {
     "name": "stdout",
     "output_type": "stream",
     "text": [
      "......-...--. --. -.-.--\n"
     ]
    }
   ],
   "source": [
    "\n",
    "# 3. Create a function that takes a string as an argument and returns the Morse code equivalent.\n",
    "\n",
    "# Examples\n",
    "\n",
    "# encode_morse(\"EDABBIT CHALLENGE\") ➞ \". -.. .- -... -... .. -   -.-. .... .- .-.. .-.. . -. --. .\"\n",
    "\n",
    "# encode_morse(\"HELP ME !\") ➞ \".... . .-.. .--.   -- .   -.-.--\"\n",
    "\n",
    "# This dictionary can be used for coding:\n",
    "\n",
    "    \n",
    "def encode_morse(data):\n",
    "    \n",
    "    char_to_dots = {\n",
    "      'A': '.-', 'B': '-...', 'C': '-.-.', 'D': '-..', 'E': '.', 'F': '..-.',\n",
    "      'G': '--.', 'H': '....', 'I': '..', 'J': '.---', 'K': '-.-', 'L': '.-..',\n",
    "      'M': '--', 'N': '-.', 'O': '---', 'P': '.--.', 'Q': '--.-', 'R': '.-.',\n",
    "      'S': '...', 'T': '-', 'U': '..-', 'V': '...-', 'W': '.--', 'X': '-..-',\n",
    "      'Y': '-.--', 'Z': '--..', ' ': ' ', '0': '-----',\n",
    "      '1': '.----', '2': '..---', '3': '...--', '4': '....-', '5': '.....',\n",
    "      '6': '-....', '7': '--...', '8': '---..', '9': '----.',\n",
    "      '&': '.-...', \"'\": '.----.', '@': '.--.-.', ')': '-.--.-', '(': '-.--.',\n",
    "      ':': '---...', ',': '--..--', '=': '-...-', '!': '-.-.--', '.': '.-.-.-',\n",
    "      '-': '-....-', '+': '.-.-.', '\"': '.-..-.', '?': '..--..', '/': '-..-.'\n",
    "    }\n",
    "    for i in data:\n",
    "        data=data.replace(i,char_to_dots[i])\n",
    "    return data\n",
    "\n",
    "print(encode_morse(\"HELP ME !\"))\n"
   ]
  },
  {
   "cell_type": "code",
   "execution_count": 107,
   "id": "6a8c4961",
   "metadata": {},
   "outputs": [
    {
     "name": "stdout",
     "output_type": "stream",
     "text": [
      "False\n"
     ]
    }
   ],
   "source": [
    "\n",
    "# 4.  Write a function that takes a number and returns True if it's a prime; False otherwise.\n",
    "# The number can be 2^64-1 (2 to the power of 63, not XOR). \n",
    "# With the standard technique it would be O(2^64-1), which is much too large for the 10 second time limit.\n",
    "\n",
    "# Examples\n",
    "\n",
    "# prime(7) ➞ True\n",
    "\n",
    "# prime(56963) ➞ True\n",
    "\n",
    "# prime(5151512515524) ➞ False\n",
    "\n",
    "def prime(num):\n",
    "    if num in (2,3,5,7):\n",
    "        return True\n",
    "    elif (num%2 == 0 or num%3==0 or num%5==0 or num%7==0):\n",
    "        return False\n",
    "    else:\n",
    "        return True\n",
    "print(prime(2**64))    "
   ]
  },
  {
   "cell_type": "code",
   "execution_count": 106,
   "id": "65e23f2a",
   "metadata": {},
   "outputs": [
    {
     "data": {
      "text/plain": [
       "18446744073709551616"
      ]
     },
     "execution_count": 106,
     "metadata": {},
     "output_type": "execute_result"
    }
   ],
   "source": [
    "2**64"
   ]
  },
  {
   "cell_type": "code",
   "execution_count": 134,
   "id": "c80c068b",
   "metadata": {},
   "outputs": [
    {
     "name": "stdout",
     "output_type": "stream",
     "text": [
      "[False, True, True, False]\n"
     ]
    }
   ],
   "source": [
    "# 5.  Create a function that converts a word to a bitstring and then to a boolean list based on the following criteria:\n",
    "\n",
    "#     1. Locate the position of the letter in the English alphabet (from 1 to 26).\n",
    "#     2. Odd positions will be represented as 1 and 0 otherwise.\n",
    "#     3. Convert the represented positions to boolean values, 1 for True and 0 for False.\n",
    "#     4. Store the conversions into an array.\n",
    "\n",
    "#  Examples\n",
    "\n",
    "# to_boolean_list(\"deep\") ➞ [False, True, True, False]\n",
    "# # deep converts to 0110\n",
    "# # d is the 4th alphabet - 0\n",
    "# # e is the 5th alphabet - 1\n",
    "# # e is the 5th alphabet - 1\n",
    "# # p is the 16th alphabet - 0\n",
    "\n",
    "# to_boolean_list(\"loves\") ➞ [False, True, False, True, True]\n",
    "\n",
    "# to_boolean_list(\"tesh\") ➞ [False, True, True, False]\n",
    "import array as arr\n",
    "import string\n",
    "\n",
    "\n",
    "def to_boolean_list(data):\n",
    "    alpha_list=list(string.ascii_lowercase)\n",
    "    \n",
    "    data_list=[]\n",
    "\n",
    "    for i in data:\n",
    "        \n",
    "        if alpha_list.index(i)%2==0:\n",
    "\n",
    "            data_list.append(True)\n",
    "        else:\n",
    "            data_list.append(False)\n",
    "    \n",
    "    return data_list\n",
    "print(to_boolean_list(\"deep\"))"
   ]
  },
  {
   "cell_type": "code",
   "execution_count": null,
   "id": "bfcf3242",
   "metadata": {},
   "outputs": [],
   "source": []
  }
 ],
 "metadata": {
  "kernelspec": {
   "display_name": "Python 3",
   "language": "python",
   "name": "python3"
  },
  "language_info": {
   "codemirror_mode": {
    "name": "ipython",
    "version": 3
   },
   "file_extension": ".py",
   "mimetype": "text/x-python",
   "name": "python",
   "nbconvert_exporter": "python",
   "pygments_lexer": "ipython3",
   "version": "3.8.8"
  }
 },
 "nbformat": 4,
 "nbformat_minor": 5
}
